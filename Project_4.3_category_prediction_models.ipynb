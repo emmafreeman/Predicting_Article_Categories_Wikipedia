{
 "cells": [
  {
   "cell_type": "code",
   "execution_count": 4,
   "metadata": {
    "collapsed": true
   },
   "outputs": [],
   "source": [
    "import pandas as pd\n",
    "import numpy as np\n",
    "import seaborn as sns\n",
    "from sklearn.decomposition import TruncatedSVD\n",
    "from sklearn.feature_extraction.text import TfidfVectorizer\n",
    "from sklearn.model_selection import GridSearchCV, StratifiedShuffleSplit\n",
    "from sklearn.linear_model import LogisticRegression\n",
    "from sklearn.ensemble import RandomForestClassifier\n",
    "from sklearn.model_selection import GridSearchCV, StratifiedShuffleSplit\n",
    "from sklearn.naive_bayes import MultinomialNB\n",
    "from sklearn.neighbors import KNeighborsClassifier\n",
    "from sklearn.preprocessing import StandardScaler\n",
    "from sklearn.preprocessing import LabelEncoder\n",
    "import matplotlib.pyplot as plt\n",
    "\n",
    "%matplotlib inline"
   ]
  },
  {
   "cell_type": "markdown",
   "metadata": {},
   "source": [
    "## Model 1: use all categories/articles in database"
   ]
  },
  {
   "cell_type": "code",
   "execution_count": 5,
   "metadata": {
    "collapsed": true
   },
   "outputs": [],
   "source": [
    "wiki_data = pd.read_pickle('wiki_data.p')"
   ]
  },
  {
   "cell_type": "code",
   "execution_count": 113,
   "metadata": {},
   "outputs": [
    {
     "data": {
      "text/html": [
       "<div>\n",
       "<table border=\"1\" class=\"dataframe\">\n",
       "  <thead>\n",
       "    <tr style=\"text-align: right;\">\n",
       "      <th></th>\n",
       "      <th>_id</th>\n",
       "      <th>category</th>\n",
       "      <th>content</th>\n",
       "      <th>pageid</th>\n",
       "      <th>title</th>\n",
       "      <th>clean_content</th>\n",
       "    </tr>\n",
       "  </thead>\n",
       "  <tbody>\n",
       "    <tr>\n",
       "      <th>3505</th>\n",
       "      <td>591c9dbdad28cdd96d819941</td>\n",
       "      <td>0</td>\n",
       "      <td>ELT is an alternative to Extract, transform, l...</td>\n",
       "      <td>46363781</td>\n",
       "      <td>Extract, load, transform</td>\n",
       "      <td>elt is an alternative to extract transform loa...</td>\n",
       "    </tr>\n",
       "    <tr>\n",
       "      <th>1964</th>\n",
       "      <td>591c94f3ad28cdd96d818902</td>\n",
       "      <td>3</td>\n",
       "      <td>Cow Lake is located in Grand Teton National Pa...</td>\n",
       "      <td>33934274</td>\n",
       "      <td>Cow Lake (Teton County, Wyoming)</td>\n",
       "      <td>cow lake is located in grand teton national pa...</td>\n",
       "    </tr>\n",
       "    <tr>\n",
       "      <th>1665</th>\n",
       "      <td>591c9429ad28cdd96d818658</td>\n",
       "      <td>3</td>\n",
       "      <td>January 20: Six exporting countries - Abu Dhab...</td>\n",
       "      <td>4238002</td>\n",
       "      <td>1972 world oil market chronology</td>\n",
       "      <td>january six exporting countriesabu dhabi iran ...</td>\n",
       "    </tr>\n",
       "    <tr>\n",
       "      <th>1183</th>\n",
       "      <td>591c76e7ad28cdd96d817851</td>\n",
       "      <td>2</td>\n",
       "      <td>.xnk is a file extension used by Microsoft Out...</td>\n",
       "      <td>13215078</td>\n",
       "      <td>Xnk</td>\n",
       "      <td>xnk is a file extension used by microsoft out...</td>\n",
       "    </tr>\n",
       "    <tr>\n",
       "      <th>1006</th>\n",
       "      <td>591bb031ad28cdd96d815651</td>\n",
       "      <td>7</td>\n",
       "      <td>Tom Michael Mitchell (born August 9, 1951) is ...</td>\n",
       "      <td>33275304</td>\n",
       "      <td>Tom M. Mitchell</td>\n",
       "      <td>tom michael mitchell born august is an america...</td>\n",
       "    </tr>\n",
       "  </tbody>\n",
       "</table>\n",
       "</div>"
      ],
      "text/plain": [
       "                           _id  category  \\\n",
       "3505  591c9dbdad28cdd96d819941         0   \n",
       "1964  591c94f3ad28cdd96d818902         3   \n",
       "1665  591c9429ad28cdd96d818658         3   \n",
       "1183  591c76e7ad28cdd96d817851         2   \n",
       "1006  591bb031ad28cdd96d815651         7   \n",
       "\n",
       "                                                content    pageid  \\\n",
       "3505  ELT is an alternative to Extract, transform, l...  46363781   \n",
       "1964  Cow Lake is located in Grand Teton National Pa...  33934274   \n",
       "1665  January 20: Six exporting countries - Abu Dhab...   4238002   \n",
       "1183  .xnk is a file extension used by Microsoft Out...  13215078   \n",
       "1006  Tom Michael Mitchell (born August 9, 1951) is ...  33275304   \n",
       "\n",
       "                                 title  \\\n",
       "3505          Extract, load, transform   \n",
       "1964  Cow Lake (Teton County, Wyoming)   \n",
       "1665  1972 world oil market chronology   \n",
       "1183                               Xnk   \n",
       "1006                   Tom M. Mitchell   \n",
       "\n",
       "                                          clean_content  \n",
       "3505  elt is an alternative to extract transform loa...  \n",
       "1964  cow lake is located in grand teton national pa...  \n",
       "1665  january six exporting countriesabu dhabi iran ...  \n",
       "1183   xnk is a file extension used by microsoft out...  \n",
       "1006  tom michael mitchell born august is an america...  "
      ]
     },
     "execution_count": 113,
     "metadata": {},
     "output_type": "execute_result"
    }
   ],
   "source": [
    "wiki_data.sample(5)"
   ]
  },
  {
   "cell_type": "code",
   "execution_count": 6,
   "metadata": {
    "collapsed": true
   },
   "outputs": [],
   "source": [
    "LSA = np.load('LSA.npy')"
   ]
  },
  {
   "cell_type": "code",
   "execution_count": 7,
   "metadata": {
    "collapsed": true
   },
   "outputs": [],
   "source": [
    "param_dict = {\n",
    "    'lr':{\n",
    "        'C': [10, 100, 10E3, 10E6, 10E9]\n",
    "    },\n",
    "    'rf':{},\n",
    "    'knc':{\n",
    "        'n_neighbors':range(2,30, 2)\n",
    "    }\n",
    "}"
   ]
  },
  {
   "cell_type": "code",
   "execution_count": 8,
   "metadata": {
    "collapsed": true
   },
   "outputs": [],
   "source": [
    "model_dict = {\n",
    "    'lr':GridSearchCV(LogisticRegression(),\n",
    "                             param_grid=param_dict['lr'],\n",
    "                             cv=StratifiedShuffleSplit(n_splits=5, random_state=42)),\n",
    "    'rf':GridSearchCV(RandomForestClassifier(),\n",
    "                      param_grid=param_dict['rf'],\n",
    "                      cv=StratifiedShuffleSplit(n_splits=5, random_state=42)),\n",
    "    'knc':GridSearchCV(KNeighborsClassifier(),\n",
    "                       param_grid=param_dict['knc'],\n",
    "                       cv=StratifiedShuffleSplit(n_splits=5, random_state=42))\n",
    "                        }"
   ]
  },
  {
   "cell_type": "code",
   "execution_count": 23,
   "metadata": {
    "collapsed": true
   },
   "outputs": [],
   "source": [
    "def fit_all_models(x,y, model_dict):\n",
    "    for model in model_dict.keys():\n",
    "        model_dict[model].fit(x,y)\n",
    "        print(\"{:5} best score: {} \\n    best estimator: {}\".format(\n",
    "            model, \n",
    "            model_dict[model].best_score_, \n",
    "            model_dict[model].best_estimator_))\n",
    "        # df_model_{}.format(model) =  pd.DataFrame(model_dict[model].cv_results_).T\n",
    "        # return df"
   ]
  },
  {
   "cell_type": "code",
   "execution_count": 24,
   "metadata": {},
   "outputs": [
    {
     "name": "stdout",
     "output_type": "stream",
     "text": [
      "lr    best score: 0.5319223985890652 \n",
      "    best estimator: LogisticRegression(C=10000000.0, class_weight=None, dual=False,\n",
      "          fit_intercept=True, intercept_scaling=1, max_iter=100,\n",
      "          multi_class='ovr', n_jobs=1, penalty='l2', random_state=None,\n",
      "          solver='liblinear', tol=0.0001, verbose=0, warm_start=False)\n",
      "rf    best score: 0.4821869488536155 \n",
      "    best estimator: RandomForestClassifier(bootstrap=True, class_weight=None, criterion='gini',\n",
      "            max_depth=None, max_features='auto', max_leaf_nodes=None,\n",
      "            min_impurity_split=1e-07, min_samples_leaf=1,\n",
      "            min_samples_split=2, min_weight_fraction_leaf=0.0,\n",
      "            n_estimators=10, n_jobs=1, oob_score=False, random_state=None,\n",
      "            verbose=0, warm_start=False)\n",
      "knc   best score: 0.5661375661375662 \n",
      "    best estimator: KNeighborsClassifier(algorithm='auto', leaf_size=30, metric='minkowski',\n",
      "           metric_params=None, n_jobs=1, n_neighbors=28, p=2,\n",
      "           weights='uniform')\n"
     ]
    }
   ],
   "source": [
    "fit_all_models(LSA, wiki_data['category'], model_dict)"
   ]
  },
  {
   "cell_type": "markdown",
   "metadata": {},
   "source": [
    "## Model 2: use only two categories (business intelligence & machine learning)"
   ]
  },
  {
   "cell_type": "code",
   "execution_count": 114,
   "metadata": {
    "collapsed": true
   },
   "outputs": [],
   "source": [
    "wiki_data_two_cats = pd.read_pickle('wiki_data_two_cats.p')"
   ]
  },
  {
   "cell_type": "code",
   "execution_count": 115,
   "metadata": {},
   "outputs": [
    {
     "data": {
      "text/html": [
       "<div>\n",
       "<table border=\"1\" class=\"dataframe\">\n",
       "  <thead>\n",
       "    <tr style=\"text-align: right;\">\n",
       "      <th></th>\n",
       "      <th>_id</th>\n",
       "      <th>category</th>\n",
       "      <th>content</th>\n",
       "      <th>pageid</th>\n",
       "      <th>title</th>\n",
       "      <th>clean_content</th>\n",
       "    </tr>\n",
       "  </thead>\n",
       "  <tbody>\n",
       "    <tr>\n",
       "      <th>3266</th>\n",
       "      <td>591c9cbfad28cdd96d81965c</td>\n",
       "      <td>0</td>\n",
       "      <td>The Baby Tooth Survey was initiated by the Gre...</td>\n",
       "      <td>30408720</td>\n",
       "      <td>Baby Tooth Survey</td>\n",
       "      <td>the baby tooth survey was initiated by the gre...</td>\n",
       "    </tr>\n",
       "    <tr>\n",
       "      <th>4321</th>\n",
       "      <td>591ca130ad28cdd96d81a389</td>\n",
       "      <td>0</td>\n",
       "      <td>The World Programming System, also known as WP...</td>\n",
       "      <td>9406780</td>\n",
       "      <td>World Programming System</td>\n",
       "      <td>the world programming system also known as wps...</td>\n",
       "    </tr>\n",
       "    <tr>\n",
       "      <th>3536</th>\n",
       "      <td>591c9ddead28cdd96d8199a3</td>\n",
       "      <td>0</td>\n",
       "      <td>Frank Yates FRS (May 12, 1902 – June 17, 1994)...</td>\n",
       "      <td>165733</td>\n",
       "      <td>Frank Yates</td>\n",
       "      <td>frank yates frs may june was one of the pionee...</td>\n",
       "    </tr>\n",
       "    <tr>\n",
       "      <th>4264</th>\n",
       "      <td>591ca0f6ad28cdd96d81a2d7</td>\n",
       "      <td>0</td>\n",
       "      <td>Envision BI is a modern cloud based business i...</td>\n",
       "      <td>36243725</td>\n",
       "      <td>User:Rakeshnandi1990/sandbox</td>\n",
       "      <td>envision bi is a modern cloud based business i...</td>\n",
       "    </tr>\n",
       "    <tr>\n",
       "      <th>503</th>\n",
       "      <td>591b9eb8ad28cdd96d814a89</td>\n",
       "      <td>1</td>\n",
       "      <td>Julie Beth Lovins is a computational linguist ...</td>\n",
       "      <td>31894251</td>\n",
       "      <td>Julie Beth Lovins</td>\n",
       "      <td>julie beth lovins is a computational linguist ...</td>\n",
       "    </tr>\n",
       "  </tbody>\n",
       "</table>\n",
       "</div>"
      ],
      "text/plain": [
       "                           _id  category  \\\n",
       "3266  591c9cbfad28cdd96d81965c         0   \n",
       "4321  591ca130ad28cdd96d81a389         0   \n",
       "3536  591c9ddead28cdd96d8199a3         0   \n",
       "4264  591ca0f6ad28cdd96d81a2d7         0   \n",
       "503   591b9eb8ad28cdd96d814a89         1   \n",
       "\n",
       "                                                content    pageid  \\\n",
       "3266  The Baby Tooth Survey was initiated by the Gre...  30408720   \n",
       "4321  The World Programming System, also known as WP...   9406780   \n",
       "3536  Frank Yates FRS (May 12, 1902 – June 17, 1994)...    165733   \n",
       "4264  Envision BI is a modern cloud based business i...  36243725   \n",
       "503   Julie Beth Lovins is a computational linguist ...  31894251   \n",
       "\n",
       "                             title  \\\n",
       "3266             Baby Tooth Survey   \n",
       "4321      World Programming System   \n",
       "3536                   Frank Yates   \n",
       "4264  User:Rakeshnandi1990/sandbox   \n",
       "503              Julie Beth Lovins   \n",
       "\n",
       "                                          clean_content  \n",
       "3266  the baby tooth survey was initiated by the gre...  \n",
       "4321  the world programming system also known as wps...  \n",
       "3536  frank yates frs may june was one of the pionee...  \n",
       "4264  envision bi is a modern cloud based business i...  \n",
       "503   julie beth lovins is a computational linguist ...  "
      ]
     },
     "execution_count": 115,
     "metadata": {},
     "output_type": "execute_result"
    }
   ],
   "source": [
    "wiki_data_two_cats.sample(5)"
   ]
  },
  {
   "cell_type": "code",
   "execution_count": 11,
   "metadata": {
    "collapsed": true
   },
   "outputs": [],
   "source": [
    "LSA_two = np.load('LSA_two.npy')"
   ]
  },
  {
   "cell_type": "code",
   "execution_count": 101,
   "metadata": {},
   "outputs": [
    {
     "name": "stdout",
     "output_type": "stream",
     "text": [
      "rf    best score: 0.879646017699115 \n",
      "      best estimator: RandomForestClassifier(bootstrap=True, class_weight=None, criterion='gini',\n",
      "            max_depth=None, max_features='auto', max_leaf_nodes=None,\n",
      "            min_impurity_split=1e-07, min_samples_leaf=1,\n",
      "            min_samples_split=2, min_weight_fraction_leaf=0.0,\n",
      "            n_estimators=10, n_jobs=1, oob_score=False, random_state=None,\n",
      "            verbose=0, warm_start=False)\n",
      "knc   best score: 0.9079646017699115 \n",
      "      best estimator: KNeighborsClassifier(algorithm='auto', leaf_size=30, metric='minkowski',\n",
      "           metric_params=None, n_jobs=1, n_neighbors=8, p=2,\n",
      "           weights='uniform')\n",
      "lr    best score: 0.9061946902654867 \n",
      "      best estimator: LogisticRegression(C=100, class_weight=None, dual=False, fit_intercept=True,\n",
      "          intercept_scaling=1, max_iter=100, multi_class='ovr', n_jobs=1,\n",
      "          penalty='l2', random_state=None, solver='liblinear', tol=0.0001,\n",
      "          verbose=0, warm_start=False)\n"
     ]
    }
   ],
   "source": [
    "fit_all_models(LSA_two, wiki_data_two_cats['category'], model_dict)"
   ]
  },
  {
   "cell_type": "markdown",
   "metadata": {
    "collapsed": true
   },
   "source": [
    "#### Next steps?\n",
    "\n",
    "extract most important words, visualization of top features, look at results using different categories (confusion matrix)"
   ]
  },
  {
   "cell_type": "markdown",
   "metadata": {},
   "source": [
    "try with a real article. do predict and predictproba.\n"
   ]
  },
  {
   "cell_type": "code",
   "execution_count": null,
   "metadata": {
    "collapsed": true
   },
   "outputs": [],
   "source": []
  }
 ],
 "metadata": {
  "kernelspec": {
   "display_name": "Python 3",
   "language": "python",
   "name": "python3"
  },
  "language_info": {
   "codemirror_mode": {
    "name": "ipython",
    "version": 3
   },
   "file_extension": ".py",
   "mimetype": "text/x-python",
   "name": "python",
   "nbconvert_exporter": "python",
   "pygments_lexer": "ipython3",
   "version": "3.5.2"
  }
 },
 "nbformat": 4,
 "nbformat_minor": 2
}
