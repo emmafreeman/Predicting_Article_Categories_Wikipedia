{
 "cells": [
  {
   "cell_type": "code",
   "execution_count": 94,
   "metadata": {
    "collapsed": true
   },
   "outputs": [],
   "source": [
    "import pandas as pd\n",
    "import numpy as np\n",
    "import seaborn as sns\n",
    "from sklearn.decomposition import TruncatedSVD\n",
    "from sklearn.feature_extraction.text import TfidfVectorizer\n",
    "from sklearn.model_selection import GridSearchCV\n",
    "from sklearn.neighbors import KNeighborsClassifier\n",
    "from sklearn.preprocessing import StandardScaler\n",
    "\n",
    "from sklearn.metrics.pairwise import cosine_similarity\n",
    "import matplotlib.pyplot as plt\n",
    "\n",
    "%matplotlib inline"
   ]
  },
  {
   "cell_type": "code",
   "execution_count": 95,
   "metadata": {
    "collapsed": true
   },
   "outputs": [],
   "source": [
    "wiki_data = pd.read_pickle('wiki_data.p')"
   ]
  },
  {
   "cell_type": "code",
   "execution_count": 3,
   "metadata": {},
   "outputs": [
    {
     "data": {
      "text/html": [
       "<div>\n",
       "<table border=\"1\" class=\"dataframe\">\n",
       "  <thead>\n",
       "    <tr style=\"text-align: right;\">\n",
       "      <th></th>\n",
       "      <th>_id</th>\n",
       "      <th>category</th>\n",
       "      <th>content</th>\n",
       "      <th>pageid</th>\n",
       "      <th>title</th>\n",
       "      <th>clean_content</th>\n",
       "    </tr>\n",
       "  </thead>\n",
       "  <tbody>\n",
       "    <tr>\n",
       "      <th>5385</th>\n",
       "      <td>5920729fad28cdd96d850916</td>\n",
       "      <td>Yoga</td>\n",
       "      <td>Swami Pranavananda (Bengali: স্বামী প্রণবানন্দ...</td>\n",
       "      <td>32972442</td>\n",
       "      <td>Pranavananda</td>\n",
       "      <td>swami pranavananda bengali বরণব নন also known ...</td>\n",
       "    </tr>\n",
       "    <tr>\n",
       "      <th>2664</th>\n",
       "      <td>591c96cead28cdd96d818f3d</td>\n",
       "      <td>Petroleum</td>\n",
       "      <td>Ploiești (Romanian pronunciation: [ploˈjeʃtʲ];...</td>\n",
       "      <td>327584</td>\n",
       "      <td>Ploiești</td>\n",
       "      <td>ploiești romanian pronunciationploˈjeʃtʲolder ...</td>\n",
       "    </tr>\n",
       "    <tr>\n",
       "      <th>685</th>\n",
       "      <td>591bad45ad28cdd96d8152a1</td>\n",
       "      <td>machine learning</td>\n",
       "      <td>ND4S is a free, open-source extension of the S...</td>\n",
       "      <td>47459238</td>\n",
       "      <td>ND4S</td>\n",
       "      <td>nds is a free open source extension of the sca...</td>\n",
       "    </tr>\n",
       "    <tr>\n",
       "      <th>948</th>\n",
       "      <td>591bafb9ad28cdd96d8155af</td>\n",
       "      <td>machine learning</td>\n",
       "      <td>Stephen H. Muggleton FBCS, FIET, FAAAI,FECCAI,...</td>\n",
       "      <td>7895245</td>\n",
       "      <td>Stephen Muggleton</td>\n",
       "      <td>stephen muggleton fbcs fiet faaai feccai fsb f...</td>\n",
       "    </tr>\n",
       "    <tr>\n",
       "      <th>2267</th>\n",
       "      <td>591c95bdad28cdd96d818bb0</td>\n",
       "      <td>Petroleum</td>\n",
       "      <td>James Edwin Darnell Jr. (born September 9, 193...</td>\n",
       "      <td>7025943</td>\n",
       "      <td>James E. Darnell</td>\n",
       "      <td>james edwin darnell jrborn september columbus ...</td>\n",
       "    </tr>\n",
       "    <tr>\n",
       "      <th>2500</th>\n",
       "      <td>591c9661ad28cdd96d818dca</td>\n",
       "      <td>Petroleum</td>\n",
       "      <td>Meile Louise Rockefeller (born December 5, 195...</td>\n",
       "      <td>2886582</td>\n",
       "      <td>Meile Rockefeller</td>\n",
       "      <td>meile louise rockefeller born december in broo...</td>\n",
       "    </tr>\n",
       "    <tr>\n",
       "      <th>3153</th>\n",
       "      <td>591c98aaad28cdd96d8193ed</td>\n",
       "      <td>Yoga</td>\n",
       "      <td>Uttanasana (/uːtəˈnɑːsənɑː/ OO-tə-NAH-sə-nah) ...</td>\n",
       "      <td>2606604</td>\n",
       "      <td>Uttanasana</td>\n",
       "      <td>uttanasanauːtəˈnɑːsənɑː oo tə nah sə nahsanskr...</td>\n",
       "    </tr>\n",
       "    <tr>\n",
       "      <th>2000</th>\n",
       "      <td>591c950cad28cdd96d818957</td>\n",
       "      <td>Petroleum</td>\n",
       "      <td>Deloitte Touche Tohmatsu Limited /dəˈlɔɪt ˈtuː...</td>\n",
       "      <td>586015</td>\n",
       "      <td>Deloitte</td>\n",
       "      <td>deloitte touche tohmatsu limited dəˈlɔɪt ˈtuːʃ...</td>\n",
       "    </tr>\n",
       "    <tr>\n",
       "      <th>4476</th>\n",
       "      <td>592004c6ad28cdd96d84e7ef</td>\n",
       "      <td>Taiwan</td>\n",
       "      <td>The Chevaliers is a 1994 Taiwanese television ...</td>\n",
       "      <td>51322685</td>\n",
       "      <td>The Chevaliers</td>\n",
       "      <td>the chevaliers is a taiwanese television drama...</td>\n",
       "    </tr>\n",
       "    <tr>\n",
       "      <th>3201</th>\n",
       "      <td>591c9c78ad28cdd96d81958f</td>\n",
       "      <td>Business intelligence</td>\n",
       "      <td>Agency.com was an interactive marketing agency...</td>\n",
       "      <td>4209890</td>\n",
       "      <td>Agency.com</td>\n",
       "      <td>agency com was an interactive marketing agency...</td>\n",
       "    </tr>\n",
       "  </tbody>\n",
       "</table>\n",
       "</div>"
      ],
      "text/plain": [
       "                           _id               category  \\\n",
       "5385  5920729fad28cdd96d850916                   Yoga   \n",
       "2664  591c96cead28cdd96d818f3d              Petroleum   \n",
       "685   591bad45ad28cdd96d8152a1       machine learning   \n",
       "948   591bafb9ad28cdd96d8155af       machine learning   \n",
       "2267  591c95bdad28cdd96d818bb0              Petroleum   \n",
       "2500  591c9661ad28cdd96d818dca              Petroleum   \n",
       "3153  591c98aaad28cdd96d8193ed                   Yoga   \n",
       "2000  591c950cad28cdd96d818957              Petroleum   \n",
       "4476  592004c6ad28cdd96d84e7ef                 Taiwan   \n",
       "3201  591c9c78ad28cdd96d81958f  Business intelligence   \n",
       "\n",
       "                                                content    pageid  \\\n",
       "5385  Swami Pranavananda (Bengali: স্বামী প্রণবানন্দ...  32972442   \n",
       "2664  Ploiești (Romanian pronunciation: [ploˈjeʃtʲ];...    327584   \n",
       "685   ND4S is a free, open-source extension of the S...  47459238   \n",
       "948   Stephen H. Muggleton FBCS, FIET, FAAAI,FECCAI,...   7895245   \n",
       "2267  James Edwin Darnell Jr. (born September 9, 193...   7025943   \n",
       "2500  Meile Louise Rockefeller (born December 5, 195...   2886582   \n",
       "3153  Uttanasana (/uːtəˈnɑːsənɑː/ OO-tə-NAH-sə-nah) ...   2606604   \n",
       "2000  Deloitte Touche Tohmatsu Limited /dəˈlɔɪt ˈtuː...    586015   \n",
       "4476  The Chevaliers is a 1994 Taiwanese television ...  51322685   \n",
       "3201  Agency.com was an interactive marketing agency...   4209890   \n",
       "\n",
       "                  title                                      clean_content  \n",
       "5385       Pranavananda  swami pranavananda bengali বরণব নন also known ...  \n",
       "2664           Ploiești  ploiești romanian pronunciationploˈjeʃtʲolder ...  \n",
       "685                ND4S  nds is a free open source extension of the sca...  \n",
       "948   Stephen Muggleton  stephen muggleton fbcs fiet faaai feccai fsb f...  \n",
       "2267   James E. Darnell  james edwin darnell jrborn september columbus ...  \n",
       "2500  Meile Rockefeller  meile louise rockefeller born december in broo...  \n",
       "3153         Uttanasana  uttanasanauːtəˈnɑːsənɑː oo tə nah sə nahsanskr...  \n",
       "2000           Deloitte  deloitte touche tohmatsu limited dəˈlɔɪt ˈtuːʃ...  \n",
       "4476     The Chevaliers  the chevaliers is a taiwanese television drama...  \n",
       "3201         Agency.com  agency com was an interactive marketing agency...  "
      ]
     },
     "execution_count": 3,
     "metadata": {},
     "output_type": "execute_result"
    }
   ],
   "source": [
    "wiki_data.sample(10)"
   ]
  },
  {
   "cell_type": "markdown",
   "metadata": {},
   "source": [
    "### vectorize text: (reduce number of features by setting min_df = 5)"
   ]
  },
  {
   "cell_type": "code",
   "execution_count": 96,
   "metadata": {
    "collapsed": true
   },
   "outputs": [],
   "source": [
    "tfidf_vectorizer = TfidfVectorizer(min_df = 5, stop_words = 'english')\n",
    "document_term_matrix = tfidf_vectorizer.fit_transform(wiki_data['content'])"
   ]
  },
  {
   "cell_type": "code",
   "execution_count": 97,
   "metadata": {},
   "outputs": [
    {
     "data": {
      "text/plain": [
       "(5665, 27356)"
      ]
     },
     "execution_count": 97,
     "metadata": {},
     "output_type": "execute_result"
    }
   ],
   "source": [
    "document_term_matrix.shape"
   ]
  },
  {
   "cell_type": "markdown",
   "metadata": {},
   "source": [
    "### perform LSA on text using SVD:"
   ]
  },
  {
   "cell_type": "code",
   "execution_count": 98,
   "metadata": {
    "collapsed": true
   },
   "outputs": [],
   "source": [
    "SVD = TruncatedSVD(n_components=400)\n",
    "latent_semantic_analysis = SVD.fit_transform(document_term_matrix)"
   ]
  },
  {
   "cell_type": "code",
   "execution_count": 99,
   "metadata": {
    "collapsed": true
   },
   "outputs": [],
   "source": [
    "np.save('LSA', latent_semantic_analysis)"
   ]
  },
  {
   "cell_type": "code",
   "execution_count": 22,
   "metadata": {},
   "outputs": [
    {
     "data": {
      "text/plain": [
       "<matplotlib.colorbar.Colorbar at 0x7f231d05e518>"
      ]
     },
     "execution_count": 22,
     "metadata": {},
     "output_type": "execute_result"
    },
    {
     "name": "stderr",
     "output_type": "stream",
     "text": [
      "/opt/conda/lib/python3.5/site-packages/matplotlib/font_manager.py:1297: UserWarning: findfont: Font family ['sans-serif'] not found. Falling back to DejaVu Sans\n",
      "  (prop.get_family(), self.defaultFamily[fontext]))\n"
     ]
    },
    {
     "data": {
      "image/png": "[encoded data removed]",
      "text/plain": [
       "<matplotlib.figure.Figure at 0x7f231d0fd438>"
      ]
     },
     "metadata": {},
     "output_type": "display_data"
    }
   ],
   "source": [
    "# from before, deleted source for LSA_df\n",
    "\n",
    "plt.figure(figsize=(8,8))\n",
    "pc_1 = LSA_df['component_1'].values\n",
    "pc_2 = LSA_df['component_2'].values\n",
    "\n",
    "plt.scatter(pc_1, pc_2, c=wiki_data['category'], cmap='magma')\n",
    "\n",
    "plt.xlabel('First PC')\n",
    "plt.ylabel('Second PC')\n",
    "plt.axvline(linewidth=0.5)\n",
    "plt.axhline(linewidth=0.5)\n",
    "plt.xlim(-.1,.8)\n",
    "plt.ylim(-.6,.8)\n",
    "plt.colorbar()"
   ]
  },
  {
   "cell_type": "markdown",
   "metadata": {},
   "source": [
    "### type in any search term:"
   ]
  },
  {
   "cell_type": "code",
   "execution_count": 101,
   "metadata": {
    "collapsed": true
   },
   "outputs": [],
   "source": [
    "search_term = \"machine learning\""
   ]
  },
  {
   "cell_type": "markdown",
   "metadata": {},
   "source": [
    "### vectorize the search term using same transformer that was fit on pages content:"
   ]
  },
  {
   "cell_type": "code",
   "execution_count": 102,
   "metadata": {
    "collapsed": true
   },
   "outputs": [],
   "source": [
    "search_term_vec = tfidf_vectorizer.transform([search_term])\n",
    "search_term_lsa = SVD.transform(search_term_vec)"
   ]
  },
  {
   "cell_type": "markdown",
   "metadata": {
    "collapsed": true
   },
   "source": [
    "### get top five cosine similarities for search term:"
   ]
  },
  {
   "cell_type": "code",
   "execution_count": 103,
   "metadata": {
    "collapsed": true
   },
   "outputs": [],
   "source": [
    "cos_sim = cosine_similarity(search_term_lsa, latent_semantic_analysis)"
   ]
  },
  {
   "cell_type": "code",
   "execution_count": 104,
   "metadata": {},
   "outputs": [
    {
     "data": {
      "text/plain": [
       "array([748, 604, 461, 786,  18])"
      ]
     },
     "execution_count": 104,
     "metadata": {},
     "output_type": "execute_result"
    }
   ],
   "source": [
    "cos_sim[0].argsort()[:-6:-1]"
   ]
  },
  {
   "cell_type": "code",
   "execution_count": 105,
   "metadata": {
    "collapsed": true
   },
   "outputs": [],
   "source": [
    "top_five_scores = cos_sim[0].argsort()[:-6:-1]"
   ]
  },
  {
   "cell_type": "code",
   "execution_count": 106,
   "metadata": {},
   "outputs": [
    {
     "name": "stdout",
     "output_type": "stream",
     "text": [
      "[748 604 461 786  18]\n"
     ]
    }
   ],
   "source": [
    "print(top_five_scores)"
   ]
  },
  {
   "cell_type": "code",
   "execution_count": 109,
   "metadata": {
    "collapsed": true
   },
   "outputs": [],
   "source": [
    "top_five_df = wiki_data.iloc[top_five_scores]"
   ]
  },
  {
   "cell_type": "code",
   "execution_count": 120,
   "metadata": {},
   "outputs": [
    {
     "data": {
      "text/html": [
       "<div>\n",
       "<table border=\"1\" class=\"dataframe\">\n",
       "  <thead>\n",
       "    <tr style=\"text-align: right;\">\n",
       "      <th></th>\n",
       "      <th>category</th>\n",
       "      <th>pageid</th>\n",
       "      <th>title</th>\n",
       "      <th>clean_content</th>\n",
       "    </tr>\n",
       "  </thead>\n",
       "  <tbody>\n",
       "    <tr>\n",
       "      <th>748</th>\n",
       "      <td>7</td>\n",
       "      <td>53587467</td>\n",
       "      <td>Outline of machine learning</td>\n",
       "      <td>the following outline is provided as an overvi...</td>\n",
       "    </tr>\n",
       "    <tr>\n",
       "      <th>604</th>\n",
       "      <td>7</td>\n",
       "      <td>233488</td>\n",
       "      <td>Machine learning</td>\n",
       "      <td>machine learning is the subfield of computer s...</td>\n",
       "    </tr>\n",
       "    <tr>\n",
       "      <th>461</th>\n",
       "      <td>7</td>\n",
       "      <td>33762888</td>\n",
       "      <td>Inferential theory of learning</td>\n",
       "      <td>inferential theory of learning itl is an area ...</td>\n",
       "    </tr>\n",
       "    <tr>\n",
       "      <th>786</th>\n",
       "      <td>7</td>\n",
       "      <td>44942962</td>\n",
       "      <td>Portal:Machine learning/Selected biography</td>\n",
       "      <td>selected persons biography archive for the mac...</td>\n",
       "    </tr>\n",
       "    <tr>\n",
       "      <th>18</th>\n",
       "      <td>7</td>\n",
       "      <td>45049676</td>\n",
       "      <td>Adversarial machine learning</td>\n",
       "      <td>adversarial machine learning is a research fie...</td>\n",
       "    </tr>\n",
       "  </tbody>\n",
       "</table>\n",
       "</div>"
      ],
      "text/plain": [
       "     category    pageid                                       title  \\\n",
       "748         7  53587467                 Outline of machine learning   \n",
       "604         7    233488                            Machine learning   \n",
       "461         7  33762888              Inferential theory of learning   \n",
       "786         7  44942962  Portal:Machine learning/Selected biography   \n",
       "18          7  45049676                Adversarial machine learning   \n",
       "\n",
       "                                         clean_content  \n",
       "748  the following outline is provided as an overvi...  \n",
       "604  machine learning is the subfield of computer s...  \n",
       "461  inferential theory of learning itl is an area ...  \n",
       "786  selected persons biography archive for the mac...  \n",
       "18   adversarial machine learning is a research fie...  "
      ]
     },
     "execution_count": 120,
     "metadata": {},
     "output_type": "execute_result"
    }
   ],
   "source": [
    "top_five_df[['category', 'pageid', 'title','clean_content']]"
   ]
  },
  {
   "cell_type": "markdown",
   "metadata": {},
   "source": [
    "### use NearestNeighbors to get top five neighbors for search term:"
   ]
  },
  {
   "cell_type": "code",
   "execution_count": 111,
   "metadata": {},
   "outputs": [],
   "source": [
    "titles_vec = tfidf_vectorizer.transform(wiki_data['title'])\n",
    "titles_lsa = SVD.transform(titles_vec)"
   ]
  },
  {
   "cell_type": "code",
   "execution_count": 112,
   "metadata": {
    "collapsed": true
   },
   "outputs": [],
   "source": [
    "from sklearn.neighbors import NearestNeighbors"
   ]
  },
  {
   "cell_type": "code",
   "execution_count": 113,
   "metadata": {
    "collapsed": true
   },
   "outputs": [],
   "source": [
    "nn = NearestNeighbors()"
   ]
  },
  {
   "cell_type": "code",
   "execution_count": 115,
   "metadata": {},
   "outputs": [
    {
     "data": {
      "text/plain": [
       "NearestNeighbors(algorithm='auto', leaf_size=30, metric='minkowski',\n",
       "         metric_params=None, n_jobs=1, n_neighbors=5, p=2, radius=1.0)"
      ]
     },
     "execution_count": 115,
     "metadata": {},
     "output_type": "execute_result"
    }
   ],
   "source": [
    "nn.fit(titles_lsa)"
   ]
  },
  {
   "cell_type": "code",
   "execution_count": 118,
   "metadata": {
    "collapsed": true
   },
   "outputs": [],
   "source": [
    "def most_similar(search):\n",
    "    distances, indices = nn.kneighbors(search)\n",
    "    return wiki_data.ix[indices[0]][['category', 'pageid', 'title','clean_content']]"
   ]
  },
  {
   "cell_type": "code",
   "execution_count": 119,
   "metadata": {},
   "outputs": [
    {
     "data": {
      "text/html": [
       "<div>\n",
       "<table border=\"1\" class=\"dataframe\">\n",
       "  <thead>\n",
       "    <tr style=\"text-align: right;\">\n",
       "      <th></th>\n",
       "      <th>category</th>\n",
       "      <th>pageid</th>\n",
       "      <th>title</th>\n",
       "      <th>clean_content</th>\n",
       "    </tr>\n",
       "  </thead>\n",
       "  <tbody>\n",
       "    <tr>\n",
       "      <th>988</th>\n",
       "      <td>7</td>\n",
       "      <td>39478785</td>\n",
       "      <td>Tanagra (machine learning)</td>\n",
       "      <td>tanagra is a free suite of machine learning so...</td>\n",
       "    </tr>\n",
       "    <tr>\n",
       "      <th>604</th>\n",
       "      <td>7</td>\n",
       "      <td>233488</td>\n",
       "      <td>Machine learning</td>\n",
       "      <td>machine learning is the subfield of computer s...</td>\n",
       "    </tr>\n",
       "    <tr>\n",
       "      <th>10</th>\n",
       "      <td>7</td>\n",
       "      <td>28801798</td>\n",
       "      <td>Active learning (machine learning)</td>\n",
       "      <td>active learning is a special case of semi supe...</td>\n",
       "    </tr>\n",
       "    <tr>\n",
       "      <th>1005</th>\n",
       "      <td>7</td>\n",
       "      <td>50828755</td>\n",
       "      <td>Timeline of machine learning</td>\n",
       "      <td>this page is a timeline of machine learning ma...</td>\n",
       "    </tr>\n",
       "    <tr>\n",
       "      <th>748</th>\n",
       "      <td>7</td>\n",
       "      <td>53587467</td>\n",
       "      <td>Outline of machine learning</td>\n",
       "      <td>the following outline is provided as an overvi...</td>\n",
       "    </tr>\n",
       "  </tbody>\n",
       "</table>\n",
       "</div>"
      ],
      "text/plain": [
       "      category    pageid                               title  \\\n",
       "988          7  39478785          Tanagra (machine learning)   \n",
       "604          7    233488                    Machine learning   \n",
       "10           7  28801798  Active learning (machine learning)   \n",
       "1005         7  50828755        Timeline of machine learning   \n",
       "748          7  53587467         Outline of machine learning   \n",
       "\n",
       "                                          clean_content  \n",
       "988   tanagra is a free suite of machine learning so...  \n",
       "604   machine learning is the subfield of computer s...  \n",
       "10    active learning is a special case of semi supe...  \n",
       "1005  this page is a timeline of machine learning ma...  \n",
       "748   the following outline is provided as an overvi...  "
      ]
     },
     "execution_count": 119,
     "metadata": {},
     "output_type": "execute_result"
    }
   ],
   "source": [
    "most_similar(search_term_lsa)"
   ]
  },
  {
   "cell_type": "markdown",
   "metadata": {},
   "source": [
    "### Use the dot product approximation to get top five neighbors for search term:"
   ]
  },
  {
   "cell_type": "code",
   "execution_count": 79,
   "metadata": {
    "collapsed": true
   },
   "outputs": [],
   "source": [
    "cosine_similarities = latent_semantic_analysis.dot(search_term_lsa.T).ravel()"
   ]
  },
  {
   "cell_type": "code",
   "execution_count": 80,
   "metadata": {
    "collapsed": true
   },
   "outputs": [],
   "source": [
    "top_neighbors = cosine_similarities.argsort()[:-6:-1]"
   ]
  },
  {
   "cell_type": "code",
   "execution_count": 82,
   "metadata": {
    "collapsed": true
   },
   "outputs": [],
   "source": [
    "top_neighbors_df = wiki_data.iloc[top_neighbors]"
   ]
  },
  {
   "cell_type": "code",
   "execution_count": 121,
   "metadata": {},
   "outputs": [
    {
     "data": {
      "text/html": [
       "<div>\n",
       "<table border=\"1\" class=\"dataframe\">\n",
       "  <thead>\n",
       "    <tr style=\"text-align: right;\">\n",
       "      <th></th>\n",
       "      <th>category</th>\n",
       "      <th>pageid</th>\n",
       "      <th>title</th>\n",
       "      <th>clean_content</th>\n",
       "    </tr>\n",
       "  </thead>\n",
       "  <tbody>\n",
       "    <tr>\n",
       "      <th>737</th>\n",
       "      <td>7</td>\n",
       "      <td>19892153</td>\n",
       "      <td>Online machine learning</td>\n",
       "      <td>in computer science online machine learning is...</td>\n",
       "    </tr>\n",
       "    <tr>\n",
       "      <th>275</th>\n",
       "      <td>7</td>\n",
       "      <td>1455062</td>\n",
       "      <td>Empirical risk minimization</td>\n",
       "      <td>empirical risk minimization erm is a principle...</td>\n",
       "    </tr>\n",
       "    <tr>\n",
       "      <th>975</th>\n",
       "      <td>7</td>\n",
       "      <td>20926</td>\n",
       "      <td>Supervised learning</td>\n",
       "      <td>supervised learning is the machine learning ta...</td>\n",
       "    </tr>\n",
       "    <tr>\n",
       "      <th>678</th>\n",
       "      <td>7</td>\n",
       "      <td>52242050</td>\n",
       "      <td>Multiplicative Weight Update Method</td>\n",
       "      <td>multiplicative weight update method is a meta ...</td>\n",
       "    </tr>\n",
       "    <tr>\n",
       "      <th>283</th>\n",
       "      <td>7</td>\n",
       "      <td>48833041</td>\n",
       "      <td>Error Tolerance (PAC learning)</td>\n",
       "      <td>error tolerance pac learning in pac learning ...</td>\n",
       "    </tr>\n",
       "  </tbody>\n",
       "</table>\n",
       "</div>"
      ],
      "text/plain": [
       "     category    pageid                                title  \\\n",
       "737         7  19892153              Online machine learning   \n",
       "275         7   1455062          Empirical risk minimization   \n",
       "975         7     20926                  Supervised learning   \n",
       "678         7  52242050  Multiplicative Weight Update Method   \n",
       "283         7  48833041       Error Tolerance (PAC learning)   \n",
       "\n",
       "                                         clean_content  \n",
       "737  in computer science online machine learning is...  \n",
       "275  empirical risk minimization erm is a principle...  \n",
       "975  supervised learning is the machine learning ta...  \n",
       "678  multiplicative weight update method is a meta ...  \n",
       "283   error tolerance pac learning in pac learning ...  "
      ]
     },
     "execution_count": 121,
     "metadata": {},
     "output_type": "execute_result"
    }
   ],
   "source": [
    "top_neighbors_df[['category', 'pageid', 'title','clean_content']]"
   ]
  }
 ],
 "metadata": {
  "kernelspec": {
   "display_name": "Python 3",
   "language": "python",
   "name": "python3"
  },
  "language_info": {
   "codemirror_mode": {
    "name": "ipython",
    "version": 3
   },
   "file_extension": ".py",
   "mimetype": "text/x-python",
   "name": "python",
   "nbconvert_exporter": "python",
   "pygments_lexer": "ipython3",
   "version": "3.5.2"
  }
 },
 "nbformat": 4,
 "nbformat_minor": 2
}
