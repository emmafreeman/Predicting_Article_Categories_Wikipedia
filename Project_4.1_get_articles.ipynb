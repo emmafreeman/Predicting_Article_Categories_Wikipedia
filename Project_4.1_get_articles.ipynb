{
 "cells": [
  {
   "cell_type": "code",
   "execution_count": null,
   "metadata": {
    "collapsed": true
   },
   "outputs": [],
   "source": [
    "!pip install pymongo"
   ]
  },
  {
   "cell_type": "code",
   "execution_count": 3,
   "metadata": {
    "collapsed": true
   },
   "outputs": [],
   "source": [
    "import pymongo\n",
    "import re\n",
    "import requests\n",
    "import pandas as pd"
   ]
  },
  {
   "cell_type": "code",
   "execution_count": 4,
   "metadata": {
    "collapsed": true
   },
   "outputs": [],
   "source": [
    "cli = pymongo.MongoClient(host='34.210.97.79')"
   ]
  },
  {
   "cell_type": "code",
   "execution_count": 5,
   "metadata": {},
   "outputs": [
    {
     "data": {
      "text/plain": [
       "5665"
      ]
     },
     "execution_count": 5,
     "metadata": {},
     "output_type": "execute_result"
    }
   ],
   "source": [
    "wiki_mongo_database = cli.wiki_mongo_database\n",
    "wiki_mongo_collection = cli.wiki_mongo_database.wiki_mongo_collection\n",
    "wiki_mongo_collection.count()"
   ]
  },
  {
   "cell_type": "code",
   "execution_count": 6,
   "metadata": {
    "collapsed": true
   },
   "outputs": [],
   "source": [
    "df = pd.DataFrame(list(cli.wiki_mongo_database.wiki_mongo_collection.find({})))"
   ]
  },
  {
   "cell_type": "code",
   "execution_count": 90,
   "metadata": {},
   "outputs": [
    {
     "data": {
      "text/plain": [
       "(5665, 6)"
      ]
     },
     "execution_count": 90,
     "metadata": {},
     "output_type": "execute_result"
    }
   ],
   "source": [
    "df.shape"
   ]
  },
  {
   "cell_type": "code",
   "execution_count": 59,
   "metadata": {},
   "outputs": [
    {
     "data": {
      "text/html": [
       "<div>\n",
       "<table border=\"1\" class=\"dataframe\">\n",
       "  <thead>\n",
       "    <tr style=\"text-align: right;\">\n",
       "      <th></th>\n",
       "      <th>_id</th>\n",
       "      <th>category</th>\n",
       "      <th>clean_content</th>\n",
       "      <th>content</th>\n",
       "      <th>pageid</th>\n",
       "      <th>title</th>\n",
       "    </tr>\n",
       "  </thead>\n",
       "  <tbody>\n",
       "    <tr>\n",
       "      <th>4237</th>\n",
       "      <td>591ca0d8ad28cdd96d81a27d</td>\n",
       "      <td>Business intelligence</td>\n",
       "      <td>otto lucien anton tony spaeth jr february sain...</td>\n",
       "      <td>Otto Lucien Anton \"Tony\" Spaeth', Jr. (Februar...</td>\n",
       "      <td>25718240</td>\n",
       "      <td>Tony Spaeth</td>\n",
       "    </tr>\n",
       "    <tr>\n",
       "      <th>117</th>\n",
       "      <td>591b9cedad28cdd96d814669</td>\n",
       "      <td>machine learning</td>\n",
       "      <td>applied statistic canonical correspondence ana...</td>\n",
       "      <td>In applied statistics, canonical correspondenc...</td>\n",
       "      <td>40892755</td>\n",
       "      <td>Canonical correspondence analysis</td>\n",
       "    </tr>\n",
       "    <tr>\n",
       "      <th>1243</th>\n",
       "      <td>591c77c6ad28cdd96d81792f</td>\n",
       "      <td>Geographic information systems</td>\n",
       "      <td>chameleon open source distribute highly config...</td>\n",
       "      <td>Chameleon is an open source, distributed, high...</td>\n",
       "      <td>6933277</td>\n",
       "      <td>Chameleon (GIS)</td>\n",
       "    </tr>\n",
       "    <tr>\n",
       "      <th>5313</th>\n",
       "      <td>59207268ad28cdd96d85086a</td>\n",
       "      <td>Yoga</td>\n",
       "      <td>haidakhan babaji simply call babaji bhole baba...</td>\n",
       "      <td>Haidakhan Babaji, simply called \"Babaji\" or Bh...</td>\n",
       "      <td>4320585</td>\n",
       "      <td>Haidakhan Babaji</td>\n",
       "    </tr>\n",
       "    <tr>\n",
       "      <th>2868</th>\n",
       "      <td>591c976aad28cdd96d819128</td>\n",
       "      <td>Petroleum</td>\n",
       "      <td>teppco partner lp fortune company base houston...</td>\n",
       "      <td>TEPPCO Partners LP was a Fortune 300 company b...</td>\n",
       "      <td>4774185</td>\n",
       "      <td>TEPPCO Partners</td>\n",
       "    </tr>\n",
       "    <tr>\n",
       "      <th>2644</th>\n",
       "      <td>591c96c1ad28cdd96d818f0f</td>\n",
       "      <td>Petroleum</td>\n",
       "      <td>peter gray bear american psychologist currentl...</td>\n",
       "      <td>Peter Gray (born 1944) is an American psycholo...</td>\n",
       "      <td>4791310</td>\n",
       "      <td>Peter Gray (psychologist)</td>\n",
       "    </tr>\n",
       "    <tr>\n",
       "      <th>3069</th>\n",
       "      <td>591c97fdad28cdd96d819308</td>\n",
       "      <td>Petroleum</td>\n",
       "      <td>zena werb bear professor vice chair anatomy un...</td>\n",
       "      <td>Zena Werb (born 1945) is a professor and the V...</td>\n",
       "      <td>47149073</td>\n",
       "      <td>Zena Werb</td>\n",
       "    </tr>\n",
       "    <tr>\n",
       "      <th>5100</th>\n",
       "      <td>5920708cad28cdd96d85063e</td>\n",
       "      <td>Taiwan</td>\n",
       "      <td>baron samejima kazunori june october admiral e...</td>\n",
       "      <td>Baron Samejima Kazunori (鮫島員規, 14 June 1845 – ...</td>\n",
       "      <td>42714767</td>\n",
       "      <td>Samejima Kazunori</td>\n",
       "    </tr>\n",
       "    <tr>\n",
       "      <th>4417</th>\n",
       "      <td>5920049ead28cdd96d84e769</td>\n",
       "      <td>Taiwan</td>\n",
       "      <td>national museum history nmh chinese pinyin gu ...</td>\n",
       "      <td>The National Museum of History (NMH; Chinese: ...</td>\n",
       "      <td>17783247</td>\n",
       "      <td>National Museum of History</td>\n",
       "    </tr>\n",
       "    <tr>\n",
       "      <th>1600</th>\n",
       "      <td>591c7958ad28cdd96d817dd9</td>\n",
       "      <td>Geographic information systems</td>\n",
       "      <td>terrset idrisi integrate geographic informatio...</td>\n",
       "      <td>TerrSet (formerly IDRISI) is an integrated geo...</td>\n",
       "      <td>11944583</td>\n",
       "      <td>TerrSet</td>\n",
       "    </tr>\n",
       "  </tbody>\n",
       "</table>\n",
       "</div>"
      ],
      "text/plain": [
       "                           _id                        category  \\\n",
       "4237  591ca0d8ad28cdd96d81a27d           Business intelligence   \n",
       "117   591b9cedad28cdd96d814669                machine learning   \n",
       "1243  591c77c6ad28cdd96d81792f  Geographic information systems   \n",
       "5313  59207268ad28cdd96d85086a                            Yoga   \n",
       "2868  591c976aad28cdd96d819128                       Petroleum   \n",
       "2644  591c96c1ad28cdd96d818f0f                       Petroleum   \n",
       "3069  591c97fdad28cdd96d819308                       Petroleum   \n",
       "5100  5920708cad28cdd96d85063e                          Taiwan   \n",
       "4417  5920049ead28cdd96d84e769                          Taiwan   \n",
       "1600  591c7958ad28cdd96d817dd9  Geographic information systems   \n",
       "\n",
       "                                          clean_content  \\\n",
       "4237  otto lucien anton tony spaeth jr february sain...   \n",
       "117   applied statistic canonical correspondence ana...   \n",
       "1243  chameleon open source distribute highly config...   \n",
       "5313  haidakhan babaji simply call babaji bhole baba...   \n",
       "2868  teppco partner lp fortune company base houston...   \n",
       "2644  peter gray bear american psychologist currentl...   \n",
       "3069  zena werb bear professor vice chair anatomy un...   \n",
       "5100  baron samejima kazunori june october admiral e...   \n",
       "4417  national museum history nmh chinese pinyin gu ...   \n",
       "1600  terrset idrisi integrate geographic informatio...   \n",
       "\n",
       "                                                content    pageid  \\\n",
       "4237  Otto Lucien Anton \"Tony\" Spaeth', Jr. (Februar...  25718240   \n",
       "117   In applied statistics, canonical correspondenc...  40892755   \n",
       "1243  Chameleon is an open source, distributed, high...   6933277   \n",
       "5313  Haidakhan Babaji, simply called \"Babaji\" or Bh...   4320585   \n",
       "2868  TEPPCO Partners LP was a Fortune 300 company b...   4774185   \n",
       "2644  Peter Gray (born 1944) is an American psycholo...   4791310   \n",
       "3069  Zena Werb (born 1945) is a professor and the V...  47149073   \n",
       "5100  Baron Samejima Kazunori (鮫島員規, 14 June 1845 – ...  42714767   \n",
       "4417  The National Museum of History (NMH; Chinese: ...  17783247   \n",
       "1600  TerrSet (formerly IDRISI) is an integrated geo...  11944583   \n",
       "\n",
       "                                  title  \n",
       "4237                        Tony Spaeth  \n",
       "117   Canonical correspondence analysis  \n",
       "1243                    Chameleon (GIS)  \n",
       "5313                   Haidakhan Babaji  \n",
       "2868                    TEPPCO Partners  \n",
       "2644          Peter Gray (psychologist)  \n",
       "3069                          Zena Werb  \n",
       "5100                  Samejima Kazunori  \n",
       "4417         National Museum of History  \n",
       "1600                            TerrSet  "
      ]
     },
     "execution_count": 59,
     "metadata": {},
     "output_type": "execute_result"
    }
   ],
   "source": [
    "df.sample(10)"
   ]
  },
  {
   "cell_type": "code",
   "execution_count": 7,
   "metadata": {
    "collapsed": true
   },
   "outputs": [],
   "source": [
    "# drop previously cleaned content so I can practice cleaning\n",
    "\n",
    "df = df.drop('clean_content', axis=1)"
   ]
  },
  {
   "cell_type": "code",
   "execution_count": 8,
   "metadata": {},
   "outputs": [
    {
     "data": {
      "text/html": [
       "<div>\n",
       "<table border=\"1\" class=\"dataframe\">\n",
       "  <thead>\n",
       "    <tr style=\"text-align: right;\">\n",
       "      <th></th>\n",
       "      <th>_id</th>\n",
       "      <th>category</th>\n",
       "      <th>content</th>\n",
       "      <th>pageid</th>\n",
       "      <th>title</th>\n",
       "    </tr>\n",
       "  </thead>\n",
       "  <tbody>\n",
       "    <tr>\n",
       "      <th>5663</th>\n",
       "      <td>59207398ad28cdd96d850b95</td>\n",
       "      <td>Taiwan</td>\n",
       "      <td>The following outline is provided as an overvi...</td>\n",
       "      <td>16285622</td>\n",
       "      <td>Outline of Taiwan</td>\n",
       "    </tr>\n",
       "    <tr>\n",
       "      <th>5664</th>\n",
       "      <td>59207398ad28cdd96d850b97</td>\n",
       "      <td>Taiwan</td>\n",
       "      <td>Taiwan (/ˌtaɪˈwɑːn/), officially the Republic ...</td>\n",
       "      <td>25734</td>\n",
       "      <td>Taiwan</td>\n",
       "    </tr>\n",
       "  </tbody>\n",
       "</table>\n",
       "</div>"
      ],
      "text/plain": [
       "                           _id category  \\\n",
       "5663  59207398ad28cdd96d850b95   Taiwan   \n",
       "5664  59207398ad28cdd96d850b97   Taiwan   \n",
       "\n",
       "                                                content    pageid  \\\n",
       "5663  The following outline is provided as an overvi...  16285622   \n",
       "5664  Taiwan (/ˌtaɪˈwɑːn/), officially the Republic ...     25734   \n",
       "\n",
       "                  title  \n",
       "5663  Outline of Taiwan  \n",
       "5664             Taiwan  "
      ]
     },
     "execution_count": 8,
     "metadata": {},
     "output_type": "execute_result"
    }
   ],
   "source": [
    "df.tail(2)"
   ]
  },
  {
   "cell_type": "code",
   "execution_count": 10,
   "metadata": {},
   "outputs": [
    {
     "data": {
      "text/plain": [
       "Petroleum                         1414\n",
       "Business intelligence             1174\n",
       "machine learning                  1077\n",
       "Taiwan                             582\n",
       "Yoga                               494\n",
       "Geographic information systems     470\n",
       "Statistical_methods                345\n",
       "Microsoft Office                   109\n",
       "Name: category, dtype: int64"
      ]
     },
     "execution_count": 10,
     "metadata": {},
     "output_type": "execute_result"
    }
   ],
   "source": [
    "df['category'].value_counts()"
   ]
  },
  {
   "cell_type": "code",
   "execution_count": 111,
   "metadata": {
    "collapsed": true
   },
   "outputs": [],
   "source": [
    "def cleaner(text):\n",
    "    text = text.lower()\n",
    "    text = re.sub('<.{0,3}>',' ',text)\n",
    "    text = re.sub('{.*\\.*}',' ',text)\n",
    "    text = re.sub('{.*\\+.*}',' ',text)\n",
    "    text = re.sub('[\\W]',' ',text)\n",
    "    text = re.sub(' [^a] ','',text)\n",
    "    text = re.sub('[0-9]','',text)\n",
    "    text = re.sub('\\s+',' ',text)\n",
    "    return text"
   ]
  },
  {
   "cell_type": "code",
   "execution_count": 112,
   "metadata": {
    "collapsed": true
   },
   "outputs": [],
   "source": [
    "df['clean_content'] = df['content'].apply(cleaner)"
   ]
  },
  {
   "cell_type": "code",
   "execution_count": 113,
   "metadata": {},
   "outputs": [
    {
     "data": {
      "text/html": [
       "<div>\n",
       "<table border=\"1\" class=\"dataframe\">\n",
       "  <thead>\n",
       "    <tr style=\"text-align: right;\">\n",
       "      <th></th>\n",
       "      <th>_id</th>\n",
       "      <th>category</th>\n",
       "      <th>content</th>\n",
       "      <th>pageid</th>\n",
       "      <th>title</th>\n",
       "      <th>clean_content</th>\n",
       "    </tr>\n",
       "  </thead>\n",
       "  <tbody>\n",
       "    <tr>\n",
       "      <th>0</th>\n",
       "      <td>591b9c60ad28cdd96d814531</td>\n",
       "      <td>machine learning</td>\n",
       "      <td>(1+ε)-approximate nearest neighbor search is a...</td>\n",
       "      <td>32003319</td>\n",
       "      <td>(1+ε)-approximate nearest neighbor search</td>\n",
       "      <td>ε approximate nearest neighbor search is a spe...</td>\n",
       "    </tr>\n",
       "    <tr>\n",
       "      <th>1</th>\n",
       "      <td>591b9c65ad28cdd96d814535</td>\n",
       "      <td>machine learning</td>\n",
       "      <td>ADALINE (Adaptive Linear Neuron or later Adapt...</td>\n",
       "      <td>8220913</td>\n",
       "      <td>ADALINE</td>\n",
       "      <td>adaline adaptive linear neuron or later adapti...</td>\n",
       "    </tr>\n",
       "    <tr>\n",
       "      <th>2</th>\n",
       "      <td>591b9c66ad28cdd96d814538</td>\n",
       "      <td>machine learning</td>\n",
       "      <td>AI@50, formally known as the \"Dartmouth Artifi...</td>\n",
       "      <td>27562454</td>\n",
       "      <td>AI@50</td>\n",
       "      <td>ai formally known as the dartmouth artificial ...</td>\n",
       "    </tr>\n",
       "    <tr>\n",
       "      <th>3</th>\n",
       "      <td>591b9c67ad28cdd96d81453a</td>\n",
       "      <td>machine learning</td>\n",
       "      <td>AIVA (Artificial Intelligence Virtual Artist) ...</td>\n",
       "      <td>52642349</td>\n",
       "      <td>AIVA</td>\n",
       "      <td>aiva artificial intelligence virtual artist is...</td>\n",
       "    </tr>\n",
       "    <tr>\n",
       "      <th>4</th>\n",
       "      <td>591b9c6aad28cdd96d81453e</td>\n",
       "      <td>machine learning</td>\n",
       "      <td>AIXI ['ai̯k͡siː] is a theoretical mathematical...</td>\n",
       "      <td>30511763</td>\n",
       "      <td>AIXI</td>\n",
       "      <td>aixiaisiː is a theoretical mathematical formal...</td>\n",
       "    </tr>\n",
       "  </tbody>\n",
       "</table>\n",
       "</div>"
      ],
      "text/plain": [
       "                        _id          category  \\\n",
       "0  591b9c60ad28cdd96d814531  machine learning   \n",
       "1  591b9c65ad28cdd96d814535  machine learning   \n",
       "2  591b9c66ad28cdd96d814538  machine learning   \n",
       "3  591b9c67ad28cdd96d81453a  machine learning   \n",
       "4  591b9c6aad28cdd96d81453e  machine learning   \n",
       "\n",
       "                                             content    pageid  \\\n",
       "0  (1+ε)-approximate nearest neighbor search is a...  32003319   \n",
       "1  ADALINE (Adaptive Linear Neuron or later Adapt...   8220913   \n",
       "2  AI@50, formally known as the \"Dartmouth Artifi...  27562454   \n",
       "3  AIVA (Artificial Intelligence Virtual Artist) ...  52642349   \n",
       "4  AIXI ['ai̯k͡siː] is a theoretical mathematical...  30511763   \n",
       "\n",
       "                                       title  \\\n",
       "0  (1+ε)-approximate nearest neighbor search   \n",
       "1                                    ADALINE   \n",
       "2                                      AI@50   \n",
       "3                                       AIVA   \n",
       "4                                       AIXI   \n",
       "\n",
       "                                       clean_content  \n",
       "0  ε approximate nearest neighbor search is a spe...  \n",
       "1  adaline adaptive linear neuron or later adapti...  \n",
       "2  ai formally known as the dartmouth artificial ...  \n",
       "3  aiva artificial intelligence virtual artist is...  \n",
       "4  aixiaisiː is a theoretical mathematical formal...  "
      ]
     },
     "execution_count": 113,
     "metadata": {},
     "output_type": "execute_result"
    }
   ],
   "source": [
    "df.head()"
   ]
  },
  {
   "cell_type": "markdown",
   "metadata": {},
   "source": [
    "### Option 1: keep two categories, machine learning and business intelligence\n",
    "Since there aren't many articles for some of the categories, I only keep the two largest categories, that are about the same size"
   ]
  },
  {
   "cell_type": "code",
   "execution_count": 114,
   "metadata": {
    "collapsed": true
   },
   "outputs": [],
   "source": [
    "df_two_cats = df[(df['category']=='machine learning') | (df['category']=='Business intelligence')]"
   ]
  },
  {
   "cell_type": "code",
   "execution_count": 119,
   "metadata": {},
   "outputs": [
    {
     "data": {
      "text/plain": [
       "array(['machine learning', 'Business intelligence'], dtype=object)"
      ]
     },
     "execution_count": 119,
     "metadata": {},
     "output_type": "execute_result"
    }
   ],
   "source": [
    "df_two_cats['category'].unique()"
   ]
  },
  {
   "cell_type": "code",
   "execution_count": 120,
   "metadata": {},
   "outputs": [
    {
     "name": "stderr",
     "output_type": "stream",
     "text": [
      "/opt/conda/lib/python3.5/site-packages/ipykernel_launcher.py:5: SettingWithCopyWarning: \n",
      "A value is trying to be set on a copy of a slice from a DataFrame.\n",
      "Try using .loc[row_indexer,col_indexer] = value instead\n",
      "\n",
      "See the caveats in the documentation: http://pandas.pydata.org/pandas-docs/stable/indexing.html#indexing-view-versus-copy\n",
      "  \"\"\"\n"
     ]
    }
   ],
   "source": [
    "# label encode category column:\n",
    "\n",
    "from sklearn.preprocessing import LabelEncoder\n",
    "le = LabelEncoder()\n",
    "df_two_cats['category'] = le.fit_transform(df_two_cats['category'])"
   ]
  },
  {
   "cell_type": "code",
   "execution_count": 121,
   "metadata": {},
   "outputs": [
    {
     "data": {
      "text/plain": [
       "array([1, 0])"
      ]
     },
     "execution_count": 121,
     "metadata": {},
     "output_type": "execute_result"
    }
   ],
   "source": [
    "df_two_cats['category'].unique()"
   ]
  },
  {
   "cell_type": "code",
   "execution_count": 122,
   "metadata": {
    "collapsed": true
   },
   "outputs": [],
   "source": [
    "df_two_cats.to_pickle('wiki_data_two_cats.p')"
   ]
  },
  {
   "cell_type": "markdown",
   "metadata": {},
   "source": [
    "### Option 2: keep all categories"
   ]
  },
  {
   "cell_type": "code",
   "execution_count": 117,
   "metadata": {
    "collapsed": true
   },
   "outputs": [],
   "source": [
    "# label encode category column:\n",
    "\n",
    "from sklearn.preprocessing import LabelEncoder\n",
    "le = LabelEncoder()\n",
    "df['category'] = le.fit_transform(df['category'])"
   ]
  },
  {
   "cell_type": "code",
   "execution_count": null,
   "metadata": {
    "collapsed": true
   },
   "outputs": [],
   "source": [
    "import bz2\n",
    "import binascii\n",
    "\n",
    "original_data = 'This is the original text.'\n",
    "print 'Original     :', len(original_data), original_data\n",
    "\n",
    "compressed = bz2.compress(original_data)\n",
    "print 'Compressed   :', len(compressed), binascii.hexlify(compressed)\n",
    "\n",
    "decompressed = bz2.decompress(compressed)\n",
    "print 'Decompressed :', len(decompressed), decompressed"
   ]
  },
  {
   "cell_type": "code",
   "execution_count": null,
   "metadata": {
    "collapsed": true
   },
   "outputs": [],
   "source": []
  },
  {
   "cell_type": "code",
   "execution_count": 124,
   "metadata": {
    "collapsed": true
   },
   "outputs": [],
   "source": [
    "df.to_pickle('wiki_data.p')"
   ]
  },
  {
   "cell_type": "code",
   "execution_count": null,
   "metadata": {
    "collapsed": true
   },
   "outputs": [],
   "source": []
  }
 ],
 "metadata": {
  "kernelspec": {
   "display_name": "Python 3",
   "language": "python",
   "name": "python3"
  },
  "language_info": {
   "codemirror_mode": {
    "name": "ipython",
    "version": 3
   },
   "file_extension": ".py",
   "mimetype": "text/x-python",
   "name": "python",
   "nbconvert_exporter": "python",
   "pygments_lexer": "ipython3",
   "version": "3.5.2"
  }
 },
 "nbformat": 4,
 "nbformat_minor": 2
}
